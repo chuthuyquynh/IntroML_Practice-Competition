{
 "cells": [
  {
   "attachments": {},
   "cell_type": "markdown",
   "id": "ac062c1c-d882-42ba-99ee-5d5274aecefb",
   "metadata": {},
   "source": [
    "# NHẬP MÔN HỌC MÁY\n",
    "## `Practice Competition`"
   ]
  },
  {
   "cell_type": "markdown",
   "id": "47401816-768f-43a8-8ccb-a3e9770e2467",
   "metadata": {},
   "source": [
    "**SINH VIÊN 1**\n",
    "\n",
    "Họ tên: Nguyễn Đăng Nhân\n",
    "\n",
    "MSSV: 22127302\n",
    "\n",
    "<br>\n",
    "\n",
    "**SINH VIÊN 2**\n",
    "\n",
    "Họ tên: Chu Thúy Quỳnh\n",
    "\n",
    "MSSV: 22127359\n",
    "\n",
    "<br>"
   ]
  },
  {
   "cell_type": "markdown",
   "id": "c3cfe6f1",
   "metadata": {},
   "source": [
    "# Giai đoạn 3: XGBoost và LightGBM"
   ]
  },
  {
   "cell_type": "markdown",
   "id": "26b6dd14-c338-415a-a9d5-78e732d03d08",
   "metadata": {},
   "source": [
    "## Import các thư viện cần thiết"
   ]
  },
  {
   "cell_type": "code",
   "execution_count": 1,
   "id": "60d1957d-e9de-4503-a153-8dd9f03883aa",
   "metadata": {},
   "outputs": [],
   "source": [
    "import pandas as pd\n",
    "import numpy as np\n",
    "import seaborn as sns\n",
    "import matplotlib.pyplot as plt\n",
    "from sklearn.preprocessing import StandardScaler\n",
    "import statsmodels.api as sm\n",
    "from statsmodels.stats.outliers_influence import variance_inflation_factor\n",
    "from sklearn.metrics import mean_squared_error\n",
    "from sklearn.model_selection import train_test_split\n",
    "from sklearn.linear_model import LassoCV\n",
    "import xgboost as xgb\n",
    "import random\n",
    "import os\n",
    "import lightgbm as lgb\n",
    "from lightgbm import early_stopping\n",
    "import numpy as np\n",
    "import random\n",
    "import os\n",
    "import time\n",
    "import tracemalloc"
   ]
  },
  {
   "cell_type": "markdown",
   "id": "9fce5735-8b55-42fa-a1a8-fca0b07a7b93",
   "metadata": {},
   "source": [
    "## Đọc dữ liệu"
   ]
  },
  {
   "cell_type": "code",
   "execution_count": 2,
   "id": "758194c7-d8b4-400a-8188-3da1aecfa7b3",
   "metadata": {},
   "outputs": [],
   "source": [
    "train = pd.read_csv('train.csv')"
   ]
  },
  {
   "cell_type": "markdown",
   "id": "ed25e328-209a-4b38-bc46-694f899114d1",
   "metadata": {},
   "source": [
    "## Tiền xử lý dữ liệu"
   ]
  },
  {
   "cell_type": "code",
   "execution_count": 3,
   "id": "0084e701-26d7-444b-9377-b8f1ce74bbcc",
   "metadata": {},
   "outputs": [
    {
     "data": {
      "text/plain": [
       "(1200000, 21)"
      ]
     },
     "execution_count": 3,
     "metadata": {},
     "output_type": "execute_result"
    }
   ],
   "source": [
    "n_rows, n_cols = train.shape\n",
    "train.shape"
   ]
  },
  {
   "cell_type": "markdown",
   "id": "82c96c84-cbf8-4a96-8bc9-8dd2c4687a70",
   "metadata": {},
   "source": [
    "- Bộ dữ liệu train có 1.200.000 dòng và 21 cột."
   ]
  },
  {
   "cell_type": "markdown",
   "id": "4a28b9d5-b7dc-469b-8136-b25aadb05a79",
   "metadata": {},
   "source": [
    "- Khi đó train có các đặc trưng với kiểu dữ liệu:"
   ]
  },
  {
   "cell_type": "code",
   "execution_count": 4,
   "id": "a902daf0-eae0-445a-8c26-c1be087bbe48",
   "metadata": {},
   "outputs": [
    {
     "data": {
      "text/plain": [
       "id              int64\n",
       "Age           float64\n",
       "Gender         object\n",
       "feature_0     float64\n",
       "feature_1      object\n",
       "feature_2     float64\n",
       "feature_3      object\n",
       "feature_4      object\n",
       "feature_5     float64\n",
       "feature_6      object\n",
       "feature_7      object\n",
       "feature_8     float64\n",
       "feature_9     float64\n",
       "feature_10    float64\n",
       "feature_11    float64\n",
       "feature_12     object\n",
       "feature_13     object\n",
       "feature_14     object\n",
       "feature_15     object\n",
       "feature_16     object\n",
       "target        float64\n",
       "dtype: object"
      ]
     },
     "execution_count": 4,
     "metadata": {},
     "output_type": "execute_result"
    }
   ],
   "source": [
    "train.dtypes"
   ]
  },
  {
   "cell_type": "markdown",
   "id": "b9189d86-c63d-48c8-a58a-1b216523dc09",
   "metadata": {},
   "source": [
    "- Chúng ta cần phải loại bỏ các giá trị ngoại lệ (outliers) để mô hình không bị overfitting hoặc học sai mối quan hệ thực tế, giúp mô hình học tốt hơn, tránh ảnh hưởng đến việc train."
   ]
  },
  {
   "cell_type": "code",
   "execution_count": 5,
   "id": "c1dc5c11-5580-4516-9688-bf514f22bb12",
   "metadata": {},
   "outputs": [
    {
     "data": {
      "image/png": "[encoded data removed]",
      "text/plain": [
       "<Figure size 1000x600 with 1 Axes>"
      ]
     },
     "metadata": {},
     "output_type": "display_data"
    }
   ],
   "source": [
    "plt.figure(figsize=(10, 6))\n",
    "sns.boxplot(x=train['target'])\n",
    "plt.title(\"Box Plot của cột target\", fontsize=14)\n",
    "plt.xlabel(\"Giá trị target\")\n",
    "plt.show()"
   ]
  },
  {
   "cell_type": "code",
   "execution_count": 6,
   "id": "aba55300-da3b-4453-8ed5-f74f8d4040a1",
   "metadata": {},
   "outputs": [],
   "source": [
    "Q1 = train['target'].quantile(0.25)\n",
    "Q3 = train['target'].quantile(0.75)\n",
    "IQR = Q3 - Q1\n",
    "train = train[(train['target'] >= Q1 - 1.5 * IQR) & (train['target'] <= Q3 + 1.5 * IQR)]"
   ]
  },
  {
   "cell_type": "markdown",
   "id": "557c81b4-c2b1-4e2e-b37b-7a27dde760f7",
   "metadata": {},
   "source": [
    "- Đối với ‘feature_12’ là ngày, tháng, năm nên ta sẽ chuyển sang định dạng datetime, sau đó trích xuất year, month, day và xóa cột `feature_12` gốc.\n",
    "- Cột id trong train không có ý nghĩa huấn luyện nên loại bỏ cột id trong train."
   ]
  },
  {
   "cell_type": "code",
   "execution_count": 7,
   "id": "e156561c-d1d7-4e34-8703-f4918ef5e2ab",
   "metadata": {},
   "outputs": [],
   "source": [
    "train['feature_12'] = pd.to_datetime(train['feature_12'])\n",
    "\n",
    "# Trích xuất đặc trưng\n",
    "train['year'] = train['feature_12'].dt.year\n",
    "train['month'] = train['feature_12'].dt.month\n",
    "train['day'] = train['feature_12'].dt.day\n",
    "\n",
    "# Xóa cột feature_12 gốc\n",
    "train = train.drop(columns=['feature_12', 'id'], axis = 1)"
   ]
  },
  {
   "cell_type": "markdown",
   "id": "cd4a47ad-22db-45fb-bc4b-99143fdab493",
   "metadata": {},
   "source": [
    "- Bộ dữ liệu train sau khi thay đổi."
   ]
  },
  {
   "cell_type": "code",
   "execution_count": 8,
   "id": "3a9d0e77-3016-44b5-bdb6-8da5cc1aeec0",
   "metadata": {},
   "outputs": [
    {
     "data": {
      "text/plain": [
       "Age           float64\n",
       "Gender         object\n",
       "feature_0     float64\n",
       "feature_1      object\n",
       "feature_2     float64\n",
       "feature_3      object\n",
       "feature_4      object\n",
       "feature_5     float64\n",
       "feature_6      object\n",
       "feature_7      object\n",
       "feature_8     float64\n",
       "feature_9     float64\n",
       "feature_10    float64\n",
       "feature_11    float64\n",
       "feature_13     object\n",
       "feature_14     object\n",
       "feature_15     object\n",
       "feature_16     object\n",
       "target        float64\n",
       "year            int64\n",
       "month           int64\n",
       "day             int64\n",
       "dtype: object"
      ]
     },
     "execution_count": 8,
     "metadata": {},
     "output_type": "execute_result"
    }
   ],
   "source": [
    "train.dtypes"
   ]
  },
  {
   "cell_type": "markdown",
   "id": "d0148c7e-4e16-4654-8c52-da45505c2d3e",
   "metadata": {},
   "source": [
    "### Xử lý dữ liệu bị thiếu"
   ]
  },
  {
   "cell_type": "markdown",
   "id": "02ce5251",
   "metadata": {},
   "source": [
    "- Ta sẽ kiểm tra dữ liệu thiếu và giải quyết bằng cách điền trung vị thay vì trung bình để tránh ảnh hưởng của outlier: \n",
    "    - Đầu tiên ta sẽ duyệt qua các cột số trong bộ dữ liệu train, nếu có giá trị thiếu thì sẽ được thay thế bằng giá trị trung vị của chính cột đó."
   ]
  },
  {
   "cell_type": "code",
   "execution_count": 9,
   "id": "1b391a8a-20c6-4657-bf5d-fd6ccf086ddf",
   "metadata": {},
   "outputs": [],
   "source": [
    "numeric_cols = train.select_dtypes(include=[np.number]).columns\n",
    "for col in numeric_cols:\n",
    "    train[col].fillna(train[col].median(), inplace=True)"
   ]
  },
  {
   "cell_type": "markdown",
   "id": "ce6662bf-3d0b-4aee-910b-7b43e326eb93",
   "metadata": {},
   "source": [
    "-\tĐối với các cột có giá trị không phải là số thì khi có giá trị thiếu thì sẽ được thay thế bằng giá trị xuất hiện nhiều nhất (mode)."
   ]
  },
  {
   "cell_type": "code",
   "execution_count": 10,
   "id": "899d7c03-5e45-4021-bf83-dca71197551f",
   "metadata": {},
   "outputs": [],
   "source": [
    "non_numeric_cols = train.select_dtypes(exclude=['number']).columns\n",
    "for col in non_numeric_cols: \n",
    "    train[col].fillna(train[col].mode()[0], inplace=True)  "
   ]
  },
  {
   "cell_type": "markdown",
   "id": "0a16314f-5bc8-4cce-b17e-ae062251689e",
   "metadata": {},
   "source": [
    "- Kiểm tra dữ liệu thiếu sau khi đã xử lý:"
   ]
  },
  {
   "cell_type": "code",
   "execution_count": 11,
   "id": "85bbfcfc-db0d-4afc-837a-d821fbddd26d",
   "metadata": {},
   "outputs": [
    {
     "name": "stdout",
     "output_type": "stream",
     "text": [
      "Age           0\n",
      "Gender        0\n",
      "feature_0     0\n",
      "feature_1     0\n",
      "feature_2     0\n",
      "feature_3     0\n",
      "feature_4     0\n",
      "feature_5     0\n",
      "feature_6     0\n",
      "feature_7     0\n",
      "feature_8     0\n",
      "feature_9     0\n",
      "feature_10    0\n",
      "feature_11    0\n",
      "feature_13    0\n",
      "feature_14    0\n",
      "feature_15    0\n",
      "feature_16    0\n",
      "target        0\n",
      "year          0\n",
      "month         0\n",
      "day           0\n",
      "dtype: int64\n"
     ]
    }
   ],
   "source": [
    "print(train.isna().sum())"
   ]
  },
  {
   "cell_type": "markdown",
   "id": "9a337c61-1cb0-425e-9b24-d6f4dd67ec0b",
   "metadata": {},
   "source": [
    "### Xử lý dữ liệu bị trùng lặp"
   ]
  },
  {
   "cell_type": "code",
   "execution_count": 12,
   "id": "082c45e6-7391-42b1-8f7b-3fa9a2e5ed0c",
   "metadata": {},
   "outputs": [
    {
     "data": {
      "text/plain": [
       "0"
      ]
     },
     "execution_count": 12,
     "metadata": {},
     "output_type": "execute_result"
    }
   ],
   "source": [
    "train.duplicated().sum()"
   ]
  },
  {
   "cell_type": "markdown",
   "id": "fa8a537c-6b32-4b3e-805a-da55befc0dd7",
   "metadata": {},
   "source": [
    "- Ta có thể thấy không có dữ liệu bị trùng lặp."
   ]
  },
  {
   "cell_type": "markdown",
   "id": "397fc34c-2d55-4372-afe8-9d82083811ec",
   "metadata": {},
   "source": [
    "### Kiểm tra đa cộng tuyến"
   ]
  },
  {
   "cell_type": "code",
   "execution_count": 13,
   "id": "c1169d8c-1d2a-44f7-9b14-6c8a41e3d0e7",
   "metadata": {},
   "outputs": [
    {
     "data": {
      "image/png": "[encoded data removed]",
      "text/plain": [
       "<Figure size 2000x800 with 2 Axes>"
      ]
     },
     "metadata": {},
     "output_type": "display_data"
    }
   ],
   "source": [
    "corr_matrix = train.corr(numeric_only=True)\n",
    "\n",
    "plt.figure(figsize=(20, 8))\n",
    "sns.heatmap(corr_matrix, annot=True, linewidths=0.5)\n",
    "plt.title(\"Feature Correlation Matrix\")\n",
    "plt.show()"
   ]
  },
  {
   "cell_type": "markdown",
   "id": "3c351d28-1e9d-4bf4-bbe3-a1a88c1248c2",
   "metadata": {},
   "source": [
    "- Không có cặp biến nào có tương quan tuyệt đối cao (|r| gần 1). Tất cả hệ số tương quan đều rất nhỏ, gần bằng 0.\n",
    "- Một số giá trị lớn hơn về mặt tương đối (như giữa month và year có r xấp xỉ -0.26), nhưng vẫn không đáng kể để gây lo ngại về đa cộng tuyến.\n",
    "- Nhìn chung, không phát hiện đa cộng tuyến rõ ràng từ heatmap."
   ]
  },
  {
   "cell_type": "code",
   "execution_count": 14,
   "id": "995763a3-61cb-460f-aa68-5aeaa295d355",
   "metadata": {},
   "outputs": [
    {
     "data": {
      "text/html": [
       "<div>\n",
       "<style scoped>\n",
       "    .dataframe tbody tr th:only-of-type {\n",
       "        vertical-align: middle;\n",
       "    }\n",
       "\n",
       "    .dataframe tbody tr th {\n",
       "        vertical-align: top;\n",
       "    }\n",
       "\n",
       "    .dataframe thead th {\n",
       "        text-align: right;\n",
       "    }\n",
       "</style>\n",
       "<table border=\"1\" class=\"dataframe\">\n",
       "  <thead>\n",
       "    <tr style=\"text-align: right;\">\n",
       "      <th></th>\n",
       "      <th>Feature</th>\n",
       "      <th>VIF</th>\n",
       "    </tr>\n",
       "  </thead>\n",
       "  <tbody>\n",
       "    <tr>\n",
       "      <th>0</th>\n",
       "      <td>const</td>\n",
       "      <td>2.019613e+06</td>\n",
       "    </tr>\n",
       "    <tr>\n",
       "      <th>1</th>\n",
       "      <td>Age</td>\n",
       "      <td>1.000027e+00</td>\n",
       "    </tr>\n",
       "    <tr>\n",
       "      <th>2</th>\n",
       "      <td>feature_0</td>\n",
       "      <td>1.037600e+00</td>\n",
       "    </tr>\n",
       "    <tr>\n",
       "      <th>3</th>\n",
       "      <td>feature_2</td>\n",
       "      <td>1.000040e+00</td>\n",
       "    </tr>\n",
       "    <tr>\n",
       "      <th>4</th>\n",
       "      <td>feature_5</td>\n",
       "      <td>1.000760e+00</td>\n",
       "    </tr>\n",
       "    <tr>\n",
       "      <th>5</th>\n",
       "      <td>feature_8</td>\n",
       "      <td>1.002131e+00</td>\n",
       "    </tr>\n",
       "    <tr>\n",
       "      <th>6</th>\n",
       "      <td>feature_9</td>\n",
       "      <td>1.000018e+00</td>\n",
       "    </tr>\n",
       "    <tr>\n",
       "      <th>7</th>\n",
       "      <td>feature_10</td>\n",
       "      <td>1.036905e+00</td>\n",
       "    </tr>\n",
       "    <tr>\n",
       "      <th>8</th>\n",
       "      <td>feature_11</td>\n",
       "      <td>1.000028e+00</td>\n",
       "    </tr>\n",
       "    <tr>\n",
       "      <th>9</th>\n",
       "      <td>year</td>\n",
       "      <td>1.073004e+00</td>\n",
       "    </tr>\n",
       "    <tr>\n",
       "      <th>10</th>\n",
       "      <td>month</td>\n",
       "      <td>1.072589e+00</td>\n",
       "    </tr>\n",
       "    <tr>\n",
       "      <th>11</th>\n",
       "      <td>day</td>\n",
       "      <td>1.000368e+00</td>\n",
       "    </tr>\n",
       "  </tbody>\n",
       "</table>\n",
       "</div>"
      ],
      "text/plain": [
       "       Feature           VIF\n",
       "0        const  2.019613e+06\n",
       "1          Age  1.000027e+00\n",
       "2    feature_0  1.037600e+00\n",
       "3    feature_2  1.000040e+00\n",
       "4    feature_5  1.000760e+00\n",
       "5    feature_8  1.002131e+00\n",
       "6    feature_9  1.000018e+00\n",
       "7   feature_10  1.036905e+00\n",
       "8   feature_11  1.000028e+00\n",
       "9         year  1.073004e+00\n",
       "10       month  1.072589e+00\n",
       "11         day  1.000368e+00"
      ]
     },
     "execution_count": 14,
     "metadata": {},
     "output_type": "execute_result"
    }
   ],
   "source": [
    "numeric_cols = [col for col in numeric_cols if col != 'target']\n",
    "X_vif = train[numeric_cols].copy()\n",
    "X_vif = sm.add_constant(train[numeric_cols])\n",
    "vif_data = pd.DataFrame()\n",
    "vif_data[\"Feature\"] = X_vif.columns\n",
    "vif_data[\"VIF\"] = [variance_inflation_factor(X_vif.values, i) for i in range(X_vif.shape[1])]\n",
    "vif_data"
   ]
  },
  {
   "cell_type": "markdown",
   "id": "43457fae-8d01-4a5a-afbf-8909107258e0",
   "metadata": {},
   "source": [
    "- Dựa trên kết quả VIF thì ta có thể thấy:\n",
    "    - Tất cả các biến đều có VIF xấp xỉ 1, ngoại trừ const (mặc định cao do nó là hằng số). Điều này cho thấy không có đa cộng tuyến giữa các biến độc lập."
   ]
  },
  {
   "cell_type": "markdown",
   "id": "7d56670a-ea8c-4f2a-a98a-59e9b6cdf4ff",
   "metadata": {},
   "source": [
    "### Chuẩn hóa dữ liệu"
   ]
  },
  {
   "cell_type": "markdown",
   "id": "0f777fa4-3871-44b5-b105-5a1561212de8",
   "metadata": {},
   "source": [
    "-\tTa sẽ chuyển các giá trị không phải số trong bộ dữ liệu train, chuyển thành các cột nhị phân (0 hoặc 1), sử dụng `drop_first = True` để tránh hiện tượng đa cộng tuyến khi dùng trong các mô hình hồi quy."
   ]
  },
  {
   "cell_type": "code",
   "execution_count": 15,
   "id": "d4dce1c1-27a8-4894-b811-4905ad6e8979",
   "metadata": {},
   "outputs": [],
   "source": [
    "train = pd.get_dummies(train, columns=non_numeric_cols, drop_first=True)"
   ]
  },
  {
   "cell_type": "markdown",
   "id": "35155ac3-8f23-465a-83f5-410555b6cfb7",
   "metadata": {},
   "source": [
    "-\tSử dụng `StandardScaler()` từ thư viện `sklearn.preprocessing` để chuẩn hóa dữ liệu sao cho mỗi đặc trưng trong bộ dữ liệu có trung bình = 0 và độ lệch chuẩn = 1."
   ]
  },
  {
   "cell_type": "code",
   "execution_count": 16,
   "id": "acf4d87c-d98a-4b0d-9724-c9b4c60e3288",
   "metadata": {},
   "outputs": [],
   "source": [
    "scaler = StandardScaler()\n",
    "train[numeric_cols] = scaler.fit_transform(train[numeric_cols])"
   ]
  },
  {
   "cell_type": "markdown",
   "id": "541fa872-4d5e-4b5f-a0f4-21e363a1dd67",
   "metadata": {},
   "source": [
    "- Sau khi chuẩn hóa xong thì ta sẽ xem xét về cột `target`"
   ]
  },
  {
   "cell_type": "code",
   "execution_count": 17,
   "id": "1f0c5504-21f0-4b0c-a361-839eac153473",
   "metadata": {},
   "outputs": [],
   "source": [
    "def plot_target_histogram(data, column='target', bins=50, log_transform=False):\n",
    "    plt.figure(figsize=(8, 5))\n",
    "\n",
    "    if log_transform:\n",
    "        plt.hist(np.log1p(data[column]), bins=bins, color='skyblue', edgecolor='black')\n",
    "        plt.title(f'Histogram of log1p({column})')\n",
    "        plt.xlabel(f'log1p({column})')\n",
    "    else:\n",
    "        plt.hist(data[column], bins=bins, color='lightgreen', edgecolor='black')\n",
    "        plt.title(f'Histogram of {column}')\n",
    "        plt.xlabel(column)\n",
    "\n",
    "    plt.ylabel('Frequency')\n",
    "    plt.grid(True)\n",
    "    plt.tight_layout()\n",
    "    plt.show()"
   ]
  },
  {
   "cell_type": "code",
   "execution_count": 18,
   "id": "c5c51d4f-055b-45fa-9ba5-d79db34c96ce",
   "metadata": {},
   "outputs": [
    {
     "data": {
      "image/png": "[encoded data removed]",
      "text/plain": [
       "<Figure size 800x500 with 1 Axes>"
      ]
     },
     "metadata": {},
     "output_type": "display_data"
    }
   ],
   "source": [
    "plot_target_histogram(train)"
   ]
  },
  {
   "cell_type": "markdown",
   "id": "5a0a6fae-1116-405f-abf3-9e968b5521ec",
   "metadata": {},
   "source": [
    "-\tTa có thể thấy phân phối `target` bị lệch phải, vì vậy ta sẽ chuẩn hóa logarit cho `target`"
   ]
  },
  {
   "cell_type": "code",
   "execution_count": 19,
   "id": "8f1ea0bb-c035-4f81-82d9-d62846e02d37",
   "metadata": {},
   "outputs": [],
   "source": [
    "train['target'] = np.log1p(train['target'])"
   ]
  },
  {
   "cell_type": "markdown",
   "id": "b01e862e",
   "metadata": {},
   "source": [
    "## Feature engineering"
   ]
  },
  {
   "cell_type": "code",
   "execution_count": 20,
   "id": "503a7b6f",
   "metadata": {},
   "outputs": [],
   "source": [
    "X = train.drop([ 'target'], axis=1)\n",
    "y = train['target']"
   ]
  },
  {
   "cell_type": "markdown",
   "id": "2b1134ae",
   "metadata": {},
   "source": [
    "- Ta sẽ sử dụng LassoCV với cross-validation 5 lần để chọn các đặc trưng quan trọng cho mô hình hồi quy để dự đoán giá trị mục tiêu bằng cách giảm các hệ số của những đặc trung không quan trọng về 0, giúp mô hình tránh bị overfitting và chọn ra tham số điều chỉnh tốt."
   ]
  },
  {
   "cell_type": "code",
   "execution_count": 21,
   "id": "6002edbd",
   "metadata": {},
   "outputs": [
    {
     "data": {
      "text/html": [
       "<div>\n",
       "<style scoped>\n",
       "    .dataframe tbody tr th:only-of-type {\n",
       "        vertical-align: middle;\n",
       "    }\n",
       "\n",
       "    .dataframe tbody tr th {\n",
       "        vertical-align: top;\n",
       "    }\n",
       "\n",
       "    .dataframe thead th {\n",
       "        text-align: right;\n",
       "    }\n",
       "</style>\n",
       "<table border=\"1\" class=\"dataframe\">\n",
       "  <thead>\n",
       "    <tr style=\"text-align: right;\">\n",
       "      <th></th>\n",
       "      <th>Age</th>\n",
       "      <th>feature_0</th>\n",
       "      <th>feature_2</th>\n",
       "      <th>feature_5</th>\n",
       "      <th>feature_8</th>\n",
       "      <th>feature_9</th>\n",
       "      <th>feature_10</th>\n",
       "      <th>year</th>\n",
       "      <th>month</th>\n",
       "      <th>day</th>\n",
       "      <th>Gender_Male</th>\n",
       "      <th>feature_1_Single</th>\n",
       "      <th>feature_3_Master's</th>\n",
       "      <th>feature_6_Urban</th>\n",
       "      <th>feature_13_Good</th>\n",
       "      <th>feature_13_Poor</th>\n",
       "      <th>feature_15_Rarely</th>\n",
       "      <th>feature_15_Weekly</th>\n",
       "      <th>feature_16_Condo</th>\n",
       "      <th>feature_16_House</th>\n",
       "    </tr>\n",
       "  </thead>\n",
       "  <tbody>\n",
       "    <tr>\n",
       "      <th>0</th>\n",
       "      <td>-1.648652</td>\n",
       "      <td>-0.705582</td>\n",
       "      <td>-0.746810</td>\n",
       "      <td>-0.249109</td>\n",
       "      <td>1.223657</td>\n",
       "      <td>1.286280</td>\n",
       "      <td>-1.566864</td>\n",
       "      <td>0.934695</td>\n",
       "      <td>1.605376</td>\n",
       "      <td>0.827512</td>\n",
       "      <td>0</td>\n",
       "      <td>0</td>\n",
       "      <td>0</td>\n",
       "      <td>1</td>\n",
       "      <td>0</td>\n",
       "      <td>1</td>\n",
       "      <td>0</td>\n",
       "      <td>1</td>\n",
       "      <td>0</td>\n",
       "      <td>1</td>\n",
       "    </tr>\n",
       "    <tr>\n",
       "      <th>1</th>\n",
       "      <td>-0.159967</td>\n",
       "      <td>-0.015502</td>\n",
       "      <td>0.733428</td>\n",
       "      <td>-0.844099</td>\n",
       "      <td>0.000920</td>\n",
       "      <td>0.420532</td>\n",
       "      <td>0.714985</td>\n",
       "      <td>0.934695</td>\n",
       "      <td>-0.142995</td>\n",
       "      <td>-0.420766</td>\n",
       "      <td>0</td>\n",
       "      <td>0</td>\n",
       "      <td>1</td>\n",
       "      <td>0</td>\n",
       "      <td>0</td>\n",
       "      <td>0</td>\n",
       "      <td>0</td>\n",
       "      <td>0</td>\n",
       "      <td>0</td>\n",
       "      <td>1</td>\n",
       "    </tr>\n",
       "    <tr>\n",
       "      <th>2</th>\n",
       "      <td>-1.350915</td>\n",
       "      <td>-0.209359</td>\n",
       "      <td>0.733428</td>\n",
       "      <td>1.831424</td>\n",
       "      <td>0.000920</td>\n",
       "      <td>0.766831</td>\n",
       "      <td>0.013423</td>\n",
       "      <td>0.934695</td>\n",
       "      <td>0.731190</td>\n",
       "      <td>1.621871</td>\n",
       "      <td>1</td>\n",
       "      <td>0</td>\n",
       "      <td>0</td>\n",
       "      <td>0</td>\n",
       "      <td>1</td>\n",
       "      <td>0</td>\n",
       "      <td>0</td>\n",
       "      <td>1</td>\n",
       "      <td>0</td>\n",
       "      <td>1</td>\n",
       "    </tr>\n",
       "    <tr>\n",
       "      <th>3</th>\n",
       "      <td>-1.499784</td>\n",
       "      <td>3.499730</td>\n",
       "      <td>-0.006691</td>\n",
       "      <td>-1.236151</td>\n",
       "      <td>0.000920</td>\n",
       "      <td>-1.657262</td>\n",
       "      <td>-1.602297</td>\n",
       "      <td>1.613037</td>\n",
       "      <td>-0.142995</td>\n",
       "      <td>-0.420766</td>\n",
       "      <td>1</td>\n",
       "      <td>0</td>\n",
       "      <td>0</td>\n",
       "      <td>0</td>\n",
       "      <td>0</td>\n",
       "      <td>1</td>\n",
       "      <td>0</td>\n",
       "      <td>0</td>\n",
       "      <td>0</td>\n",
       "      <td>0</td>\n",
       "    </tr>\n",
       "    <tr>\n",
       "      <th>4</th>\n",
       "      <td>-1.499784</td>\n",
       "      <td>0.238879</td>\n",
       "      <td>-0.746810</td>\n",
       "      <td>-0.437252</td>\n",
       "      <td>-1.221817</td>\n",
       "      <td>-0.272066</td>\n",
       "      <td>0.034682</td>\n",
       "      <td>-0.421990</td>\n",
       "      <td>1.605376</td>\n",
       "      <td>-1.669044</td>\n",
       "      <td>1</td>\n",
       "      <td>1</td>\n",
       "      <td>0</td>\n",
       "      <td>0</td>\n",
       "      <td>0</td>\n",
       "      <td>1</td>\n",
       "      <td>0</td>\n",
       "      <td>1</td>\n",
       "      <td>0</td>\n",
       "      <td>1</td>\n",
       "    </tr>\n",
       "    <tr>\n",
       "      <th>...</th>\n",
       "      <td>...</td>\n",
       "      <td>...</td>\n",
       "      <td>...</td>\n",
       "      <td>...</td>\n",
       "      <td>...</td>\n",
       "      <td>...</td>\n",
       "      <td>...</td>\n",
       "      <td>...</td>\n",
       "      <td>...</td>\n",
       "      <td>...</td>\n",
       "      <td>...</td>\n",
       "      <td>...</td>\n",
       "      <td>...</td>\n",
       "      <td>...</td>\n",
       "      <td>...</td>\n",
       "      <td>...</td>\n",
       "      <td>...</td>\n",
       "      <td>...</td>\n",
       "      <td>...</td>\n",
       "      <td>...</td>\n",
       "    </tr>\n",
       "    <tr>\n",
       "      <th>1199995</th>\n",
       "      <td>-0.383270</td>\n",
       "      <td>-0.154673</td>\n",
       "      <td>-1.486929</td>\n",
       "      <td>-0.996195</td>\n",
       "      <td>0.000920</td>\n",
       "      <td>-0.791515</td>\n",
       "      <td>-1.566864</td>\n",
       "      <td>0.934695</td>\n",
       "      <td>-0.434391</td>\n",
       "      <td>-1.442085</td>\n",
       "      <td>0</td>\n",
       "      <td>0</td>\n",
       "      <td>1</td>\n",
       "      <td>1</td>\n",
       "      <td>0</td>\n",
       "      <td>1</td>\n",
       "      <td>0</td>\n",
       "      <td>0</td>\n",
       "      <td>0</td>\n",
       "      <td>0</td>\n",
       "    </tr>\n",
       "    <tr>\n",
       "      <th>1199996</th>\n",
       "      <td>0.956547</td>\n",
       "      <td>0.115565</td>\n",
       "      <td>-0.006691</td>\n",
       "      <td>-1.189989</td>\n",
       "      <td>0.000920</td>\n",
       "      <td>0.074233</td>\n",
       "      <td>0.027596</td>\n",
       "      <td>0.256352</td>\n",
       "      <td>0.731190</td>\n",
       "      <td>-0.647726</td>\n",
       "      <td>1</td>\n",
       "      <td>0</td>\n",
       "      <td>1</td>\n",
       "      <td>0</td>\n",
       "      <td>0</td>\n",
       "      <td>1</td>\n",
       "      <td>0</td>\n",
       "      <td>1</td>\n",
       "      <td>0</td>\n",
       "      <td>0</td>\n",
       "    </tr>\n",
       "    <tr>\n",
       "      <th>1199997</th>\n",
       "      <td>-1.648652</td>\n",
       "      <td>0.629176</td>\n",
       "      <td>-1.486929</td>\n",
       "      <td>-0.915648</td>\n",
       "      <td>-1.221817</td>\n",
       "      <td>1.632579</td>\n",
       "      <td>0.013423</td>\n",
       "      <td>-0.421990</td>\n",
       "      <td>-0.434391</td>\n",
       "      <td>1.054472</td>\n",
       "      <td>1</td>\n",
       "      <td>0</td>\n",
       "      <td>1</td>\n",
       "      <td>0</td>\n",
       "      <td>1</td>\n",
       "      <td>0</td>\n",
       "      <td>0</td>\n",
       "      <td>0</td>\n",
       "      <td>1</td>\n",
       "      <td>0</td>\n",
       "    </tr>\n",
       "    <tr>\n",
       "      <th>1199998</th>\n",
       "      <td>1.030981</td>\n",
       "      <td>-0.264906</td>\n",
       "      <td>-0.746810</td>\n",
       "      <td>-0.592048</td>\n",
       "      <td>0.000920</td>\n",
       "      <td>-0.445216</td>\n",
       "      <td>-1.318837</td>\n",
       "      <td>-0.421990</td>\n",
       "      <td>0.731190</td>\n",
       "      <td>0.373593</td>\n",
       "      <td>1</td>\n",
       "      <td>1</td>\n",
       "      <td>0</td>\n",
       "      <td>0</td>\n",
       "      <td>0</td>\n",
       "      <td>1</td>\n",
       "      <td>0</td>\n",
       "      <td>0</td>\n",
       "      <td>0</td>\n",
       "      <td>0</td>\n",
       "    </tr>\n",
       "    <tr>\n",
       "      <th>1199999</th>\n",
       "      <td>-1.499784</td>\n",
       "      <td>-0.264906</td>\n",
       "      <td>-1.486929</td>\n",
       "      <td>-1.304954</td>\n",
       "      <td>-1.221817</td>\n",
       "      <td>1.459429</td>\n",
       "      <td>-0.645621</td>\n",
       "      <td>-1.100333</td>\n",
       "      <td>0.439795</td>\n",
       "      <td>1.167952</td>\n",
       "      <td>0</td>\n",
       "      <td>0</td>\n",
       "      <td>0</td>\n",
       "      <td>0</td>\n",
       "      <td>1</td>\n",
       "      <td>0</td>\n",
       "      <td>0</td>\n",
       "      <td>0</td>\n",
       "      <td>0</td>\n",
       "      <td>1</td>\n",
       "    </tr>\n",
       "  </tbody>\n",
       "</table>\n",
       "<p>1150680 rows × 20 columns</p>\n",
       "</div>"
      ],
      "text/plain": [
       "              Age  feature_0  feature_2  feature_5  feature_8  feature_9  \\\n",
       "0       -1.648652  -0.705582  -0.746810  -0.249109   1.223657   1.286280   \n",
       "1       -0.159967  -0.015502   0.733428  -0.844099   0.000920   0.420532   \n",
       "2       -1.350915  -0.209359   0.733428   1.831424   0.000920   0.766831   \n",
       "3       -1.499784   3.499730  -0.006691  -1.236151   0.000920  -1.657262   \n",
       "4       -1.499784   0.238879  -0.746810  -0.437252  -1.221817  -0.272066   \n",
       "...           ...        ...        ...        ...        ...        ...   \n",
       "1199995 -0.383270  -0.154673  -1.486929  -0.996195   0.000920  -0.791515   \n",
       "1199996  0.956547   0.115565  -0.006691  -1.189989   0.000920   0.074233   \n",
       "1199997 -1.648652   0.629176  -1.486929  -0.915648  -1.221817   1.632579   \n",
       "1199998  1.030981  -0.264906  -0.746810  -0.592048   0.000920  -0.445216   \n",
       "1199999 -1.499784  -0.264906  -1.486929  -1.304954  -1.221817   1.459429   \n",
       "\n",
       "         feature_10      year     month       day  Gender_Male  \\\n",
       "0         -1.566864  0.934695  1.605376  0.827512            0   \n",
       "1          0.714985  0.934695 -0.142995 -0.420766            0   \n",
       "2          0.013423  0.934695  0.731190  1.621871            1   \n",
       "3         -1.602297  1.613037 -0.142995 -0.420766            1   \n",
       "4          0.034682 -0.421990  1.605376 -1.669044            1   \n",
       "...             ...       ...       ...       ...          ...   \n",
       "1199995   -1.566864  0.934695 -0.434391 -1.442085            0   \n",
       "1199996    0.027596  0.256352  0.731190 -0.647726            1   \n",
       "1199997    0.013423 -0.421990 -0.434391  1.054472            1   \n",
       "1199998   -1.318837 -0.421990  0.731190  0.373593            1   \n",
       "1199999   -0.645621 -1.100333  0.439795  1.167952            0   \n",
       "\n",
       "         feature_1_Single  feature_3_Master's  feature_6_Urban  \\\n",
       "0                       0                   0                1   \n",
       "1                       0                   1                0   \n",
       "2                       0                   0                0   \n",
       "3                       0                   0                0   \n",
       "4                       1                   0                0   \n",
       "...                   ...                 ...              ...   \n",
       "1199995                 0                   1                1   \n",
       "1199996                 0                   1                0   \n",
       "1199997                 0                   1                0   \n",
       "1199998                 1                   0                0   \n",
       "1199999                 0                   0                0   \n",
       "\n",
       "         feature_13_Good  feature_13_Poor  feature_15_Rarely  \\\n",
       "0                      0                1                  0   \n",
       "1                      0                0                  0   \n",
       "2                      1                0                  0   \n",
       "3                      0                1                  0   \n",
       "4                      0                1                  0   \n",
       "...                  ...              ...                ...   \n",
       "1199995                0                1                  0   \n",
       "1199996                0                1                  0   \n",
       "1199997                1                0                  0   \n",
       "1199998                0                1                  0   \n",
       "1199999                1                0                  0   \n",
       "\n",
       "         feature_15_Weekly  feature_16_Condo  feature_16_House  \n",
       "0                        1                 0                 1  \n",
       "1                        0                 0                 1  \n",
       "2                        1                 0                 1  \n",
       "3                        0                 0                 0  \n",
       "4                        1                 0                 1  \n",
       "...                    ...               ...               ...  \n",
       "1199995                  0                 0                 0  \n",
       "1199996                  1                 0                 0  \n",
       "1199997                  0                 1                 0  \n",
       "1199998                  0                 0                 0  \n",
       "1199999                  0                 0                 1  \n",
       "\n",
       "[1150680 rows x 20 columns]"
      ]
     },
     "execution_count": 21,
     "metadata": {},
     "output_type": "execute_result"
    }
   ],
   "source": [
    "lasso = LassoCV(cv=5)\n",
    "lasso.fit(X, y)\n",
    "\n",
    "selected = X.columns[lasso.coef_ != 0]\n",
    "X = train[selected]\n",
    "X"
   ]
  },
  {
   "cell_type": "markdown",
   "id": "496f1bc9-a8be-4f94-89a8-6afd5d9157f4",
   "metadata": {},
   "source": [
    "## Xây dựng model"
   ]
  },
  {
   "cell_type": "markdown",
   "id": "eec087b4-c6c7-4bf6-a6d2-4d3e86c2d350",
   "metadata": {},
   "source": [
    "-\tTa sẽ tiến hành chia bộ dữ liệu thành 3 phần: 70% train - 20% validation - 10% test"
   ]
  },
  {
   "cell_type": "code",
   "execution_count": 22,
   "id": "14761845-0c94-4799-aa69-d74deb8e59a5",
   "metadata": {},
   "outputs": [],
   "source": [
    "X_train, X_temp, y_train, y_temp = train_test_split(X, y, test_size=0.3, random_state=42)\n",
    "X_val, X_test, y_val, y_test = train_test_split(X_temp, y_temp, test_size=0.1, random_state=42)"
   ]
  },
  {
   "cell_type": "markdown",
   "id": "0fb915df-9e2e-4aff-8924-8556224e2985",
   "metadata": {},
   "source": [
    "### Lựa chọn mô hình: XGBoost"
   ]
  },
  {
   "cell_type": "markdown",
   "id": "30bf5a60-9eca-4543-b597-fb20f0ea1d92",
   "metadata": {},
   "source": [
    "### Lý do lựa chọn mô hình XGBoost"
   ]
  },
  {
   "cell_type": "markdown",
   "id": "fb5ad2b8-997a-43ca-9fee-025897f68a8b",
   "metadata": {},
   "source": [
    "### Thiết kế kiến trúc"
   ]
  },
  {
   "cell_type": "markdown",
   "id": "3b4e7fb7-dc0d-4a4e-9e2f-ffb60f26b991",
   "metadata": {},
   "source": [
    "- Dể đảm bảo tính tái lập của kết quả bằng cách thiết lập giá trị seed cho các thư viện cần thiết.\n",
    "- Dữ liệu huấn luyện và validation được chuyển thành DMatrix, định dạng đặc biệt của XGBoost.\n",
    "- Các tham số huấn luyện được thiết lập theo thiết kế phía trên.\n",
    "- Mô hình XGBoost được huấn luyện qua 5000 vòng lặp với kiểm tra sớm và dừng nếu không có cải thiện trong 50 vòng."
   ]
  },
  {
   "cell_type": "code",
   "execution_count": 23,
   "id": "82dfe8c1-0b15-4a11-88fa-93012a527d9a",
   "metadata": {},
   "outputs": [
    {
     "name": "stdout",
     "output_type": "stream",
     "text": [
      "[0]\ttrain-rmse:1.06782\tval-rmse:1.06835\n",
      "[50]\ttrain-rmse:1.06381\tval-rmse:1.06472\n",
      "[100]\ttrain-rmse:1.06004\tval-rmse:1.06131\n",
      "[150]\ttrain-rmse:1.05651\tval-rmse:1.05816\n",
      "[200]\ttrain-rmse:1.05300\tval-rmse:1.05501\n",
      "[250]\ttrain-rmse:1.04974\tval-rmse:1.05212\n",
      "[300]\ttrain-rmse:1.04687\tval-rmse:1.04960\n",
      "[350]\ttrain-rmse:1.04412\tval-rmse:1.04721\n",
      "[400]\ttrain-rmse:1.04148\tval-rmse:1.04493\n",
      "[450]\ttrain-rmse:1.03915\tval-rmse:1.04296\n",
      "[500]\ttrain-rmse:1.03705\tval-rmse:1.04119\n",
      "[550]\ttrain-rmse:1.03494\tval-rmse:1.03943\n",
      "[600]\ttrain-rmse:1.03298\tval-rmse:1.03780\n",
      "[650]\ttrain-rmse:1.03113\tval-rmse:1.03629\n",
      "[700]\ttrain-rmse:1.02928\tval-rmse:1.03479\n",
      "[750]\ttrain-rmse:1.02755\tval-rmse:1.03339\n",
      "[800]\ttrain-rmse:1.02601\tval-rmse:1.03219\n",
      "[850]\ttrain-rmse:1.02452\tval-rmse:1.03103\n",
      "[900]\ttrain-rmse:1.02330\tval-rmse:1.03012\n",
      "[950]\ttrain-rmse:1.02209\tval-rmse:1.02922\n",
      "[1000]\ttrain-rmse:1.02083\tval-rmse:1.02829\n",
      "[1050]\ttrain-rmse:1.01977\tval-rmse:1.02754\n",
      "[1100]\ttrain-rmse:1.01866\tval-rmse:1.02675\n",
      "[1150]\ttrain-rmse:1.01763\tval-rmse:1.02604\n",
      "[1200]\ttrain-rmse:1.01657\tval-rmse:1.02530\n",
      "[1250]\ttrain-rmse:1.01558\tval-rmse:1.02463\n",
      "[1300]\ttrain-rmse:1.01463\tval-rmse:1.02400\n",
      "[1350]\ttrain-rmse:1.01373\tval-rmse:1.02342\n",
      "[1400]\ttrain-rmse:1.01286\tval-rmse:1.02287\n",
      "[1450]\ttrain-rmse:1.01200\tval-rmse:1.02233\n",
      "[1500]\ttrain-rmse:1.01124\tval-rmse:1.02187\n",
      "[1550]\ttrain-rmse:1.01049\tval-rmse:1.02144\n",
      "[1600]\ttrain-rmse:1.00979\tval-rmse:1.02105\n",
      "[1650]\ttrain-rmse:1.00910\tval-rmse:1.02067\n",
      "[1700]\ttrain-rmse:1.00845\tval-rmse:1.02033\n",
      "[1750]\ttrain-rmse:1.00780\tval-rmse:1.01998\n",
      "[1800]\ttrain-rmse:1.00719\tval-rmse:1.01968\n",
      "[1850]\ttrain-rmse:1.00663\tval-rmse:1.01941\n",
      "[1900]\ttrain-rmse:1.00607\tval-rmse:1.01916\n",
      "[1950]\ttrain-rmse:1.00555\tval-rmse:1.01893\n",
      "[2000]\ttrain-rmse:1.00503\tval-rmse:1.01870\n",
      "[2050]\ttrain-rmse:1.00450\tval-rmse:1.01848\n",
      "[2100]\ttrain-rmse:1.00400\tval-rmse:1.01827\n",
      "[2150]\ttrain-rmse:1.00351\tval-rmse:1.01809\n",
      "[2200]\ttrain-rmse:1.00302\tval-rmse:1.01791\n",
      "[2250]\ttrain-rmse:1.00256\tval-rmse:1.01774\n",
      "[2300]\ttrain-rmse:1.00213\tval-rmse:1.01760\n",
      "[2350]\ttrain-rmse:1.00171\tval-rmse:1.01747\n",
      "[2400]\ttrain-rmse:1.00128\tval-rmse:1.01733\n",
      "[2450]\ttrain-rmse:1.00089\tval-rmse:1.01723\n",
      "[2500]\ttrain-rmse:1.00049\tval-rmse:1.01711\n",
      "[2550]\ttrain-rmse:1.00009\tval-rmse:1.01701\n",
      "[2600]\ttrain-rmse:0.99970\tval-rmse:1.01691\n",
      "[2650]\ttrain-rmse:0.99932\tval-rmse:1.01682\n",
      "[2700]\ttrain-rmse:0.99895\tval-rmse:1.01673\n",
      "[2750]\ttrain-rmse:0.99857\tval-rmse:1.01665\n",
      "[2800]\ttrain-rmse:0.99823\tval-rmse:1.01658\n",
      "[2850]\ttrain-rmse:0.99786\tval-rmse:1.01651\n",
      "[2900]\ttrain-rmse:0.99751\tval-rmse:1.01645\n",
      "[2950]\ttrain-rmse:0.99717\tval-rmse:1.01639\n",
      "[3000]\ttrain-rmse:0.99683\tval-rmse:1.01633\n",
      "[3050]\ttrain-rmse:0.99649\tval-rmse:1.01628\n",
      "[3100]\ttrain-rmse:0.99615\tval-rmse:1.01623\n",
      "[3150]\ttrain-rmse:0.99582\tval-rmse:1.01619\n",
      "[3200]\ttrain-rmse:0.99549\tval-rmse:1.01614\n",
      "[3250]\ttrain-rmse:0.99518\tval-rmse:1.01610\n",
      "[3300]\ttrain-rmse:0.99485\tval-rmse:1.01606\n",
      "[3350]\ttrain-rmse:0.99453\tval-rmse:1.01603\n",
      "[3400]\ttrain-rmse:0.99422\tval-rmse:1.01600\n",
      "[3450]\ttrain-rmse:0.99392\tval-rmse:1.01597\n",
      "[3500]\ttrain-rmse:0.99362\tval-rmse:1.01594\n",
      "[3550]\ttrain-rmse:0.99332\tval-rmse:1.01592\n",
      "[3600]\ttrain-rmse:0.99303\tval-rmse:1.01589\n",
      "[3650]\ttrain-rmse:0.99272\tval-rmse:1.01587\n",
      "[3700]\ttrain-rmse:0.99243\tval-rmse:1.01585\n",
      "[3750]\ttrain-rmse:0.99213\tval-rmse:1.01583\n",
      "[3800]\ttrain-rmse:0.99184\tval-rmse:1.01582\n",
      "[3850]\ttrain-rmse:0.99156\tval-rmse:1.01580\n",
      "[3900]\ttrain-rmse:0.99129\tval-rmse:1.01579\n",
      "[3950]\ttrain-rmse:0.99100\tval-rmse:1.01578\n",
      "[4000]\ttrain-rmse:0.99072\tval-rmse:1.01576\n",
      "[4050]\ttrain-rmse:0.99047\tval-rmse:1.01575\n",
      "[4100]\ttrain-rmse:0.99019\tval-rmse:1.01574\n",
      "[4150]\ttrain-rmse:0.98991\tval-rmse:1.01573\n",
      "[4200]\ttrain-rmse:0.98964\tval-rmse:1.01572\n",
      "[4250]\ttrain-rmse:0.98938\tval-rmse:1.01571\n",
      "[4300]\ttrain-rmse:0.98912\tval-rmse:1.01571\n",
      "[4350]\ttrain-rmse:0.98886\tval-rmse:1.01570\n",
      "[4400]\ttrain-rmse:0.98861\tval-rmse:1.01569\n",
      "[4450]\ttrain-rmse:0.98837\tval-rmse:1.01568\n",
      "[4500]\ttrain-rmse:0.98812\tval-rmse:1.01568\n",
      "[4550]\ttrain-rmse:0.98787\tval-rmse:1.01567\n",
      "[4600]\ttrain-rmse:0.98763\tval-rmse:1.01567\n",
      "[4650]\ttrain-rmse:0.98738\tval-rmse:1.01566\n",
      "[4700]\ttrain-rmse:0.98713\tval-rmse:1.01566\n",
      "[4750]\ttrain-rmse:0.98689\tval-rmse:1.01566\n",
      "[4800]\ttrain-rmse:0.98665\tval-rmse:1.01565\n",
      "[4850]\ttrain-rmse:0.98641\tval-rmse:1.01565\n",
      "[4899]\ttrain-rmse:0.98618\tval-rmse:1.01565\n"
     ]
    }
   ],
   "source": [
    "seed = 42\n",
    "np.random.seed(seed)\n",
    "random.seed(seed)\n",
    "os.environ['PYTHONHASHSEED'] = str(seed)\n",
    "\n",
    "dtrain = xgb.DMatrix(X_train, label=y_train)\n",
    "dval = xgb.DMatrix(X_val, label=y_val)\n",
    "\n",
    "params = {\n",
    "    'objective': 'reg:squarederror',\n",
    "    'learning_rate': 0.001,\n",
    "    'max_depth': 10,\n",
    "    'min_child_weight': 5,\n",
    "    'subsample': 0.9,\n",
    "    'colsample_bytree': 0.85,\n",
    "    'gamma': 0.2,\n",
    "    'reg_alpha': 0.1,\n",
    "    'reg_lambda': 1.0,\n",
    "    'eval_metric': 'rmse',\n",
    "    'seed': seed,\n",
    "    'tree_method': 'hist',\n",
    "    'max_bin': 512\n",
    "}\n",
    "\n",
    "start_time = time.time()\n",
    "tracemalloc.start()\n",
    "\n",
    "model = xgb.train(\n",
    "    params=params,\n",
    "    dtrain=dtrain,\n",
    "    num_boost_round=5000,\n",
    "    evals=[(dtrain, 'train'), (dval, 'val')],\n",
    "    early_stopping_rounds=50,\n",
    "    verbose_eval=50\n",
    ")\n",
    "\n",
    "end_time = time.time()\n",
    "current, peak = tracemalloc.get_traced_memory()\n",
    "tracemalloc.stop()\n",
    "xgb_mem_peak = peak / (1024 ** 2)\n",
    "xgb_time = end_time - start_time\n"
   ]
  },
  {
   "cell_type": "code",
   "execution_count": null,
   "id": "bca6cf56-9f85-412a-9bd5-f16db784678e",
   "metadata": {},
   "outputs": [
    {
     "name": "stdout",
     "output_type": "stream",
     "text": [
      "Mean Squared Error (MSE): 576535.6641\n",
      "Mean Absolute Percentage Error (MAPE): 174.77%\n",
      "Root Mean Squared Log Error (RMSLE): 1.0175\n"
     ]
    }
   ],
   "source": [
    "dtest = xgb.DMatrix(X_test, label=y_test)\n",
    "y_pred = model.predict(dtest, iteration_range=(0, model.best_iteration))\n",
    "\n",
    "y_pred = np.maximum(y_pred, 0)\n",
    "y_test = np.maximum(y_test, 0)\n",
    "\n",
    "# MSE \n",
    "mse_xgb = mean_squared_error(np.expm1(y_test), np.expm1(y_pred))\n",
    "\n",
    "# RMSLE\n",
    "rmsle_xgb = np.sqrt(np.mean(np.square(np.log1p(np.expm1(y_test)) - np.log1p(np.expm1(y_pred)))))\n",
    "\n",
    "# MAPE\n",
    "mape_xgb = np.mean(np.abs((np.expm1(y_test) - np.expm1(y_pred)) / (np.expm1(y_test) + 1e-9))) * 100\n",
    "\n",
    "print(f\"Mean Squared Error (MSE): {mse_xgb:.4f}\")\n",
    "print(f\"Mean Absolute Percentage Error (MAPE): {mape_xgb:.2f}%\")\n",
    "print(f\"Root Mean Squared Log Error (RMSLE): {rmsle_xgb:.4f}\")"
   ]
  },
  {
   "cell_type": "code",
   "execution_count": 25,
   "id": "87e164bf",
   "metadata": {},
   "outputs": [
    {
     "name": "stdout",
     "output_type": "stream",
     "text": [
      "\n",
      "Tổng thời gian huấn luyện: 914.12 giây\n",
      "Bộ nhớ RAM peak trong quá trình huấn luyện: 254.37 MB\n"
     ]
    }
   ],
   "source": [
    "print(f\"\\nTổng thời gian huấn luyện: {end_time - start_time:.2f} giây\")\n",
    "print(f\"Bộ nhớ RAM peak trong quá trình huấn luyện: {peak / (1024 ** 2):.2f} MB\")"
   ]
  },
  {
   "cell_type": "markdown",
   "id": "cf3ca92d-2374-424c-af90-50434d94c9bd",
   "metadata": {},
   "source": [
    "### Nhận xét"
   ]
  },
  {
   "cell_type": "markdown",
   "id": "8b70d0eb-0e77-493d-95d1-0f8a79bfd27c",
   "metadata": {},
   "source": [
    "**1. Mean Squared Error (MSE): 576,527.04**\n",
    "- Đây là sai số bình phương trung bình rất lớn, cho thấy mô hình dự đoán còn kém chính xác, đặc biệt là với các giá trị lớn.\n",
    "- Do MSE phạt mạnh những sai số lớn, điều này có thể là dấu hiệu của việc mô hình bị ảnh hưởng bởi các outlier hoặc dự đoán sai lệch nghiêm trọng trên một số điểm.\n",
    "\n",
    "**2. R² Score: -0.1419**\n",
    "- Giá trị R² âm cho thấy mô hình hoạt động **tệ hơn việc chỉ dùng trung bình cộng để dự đoán**.\n",
    "- Điều này là tín hiệu nghiêm trọng: mô hình hiện tại không học được mối quan hệ nào có ích từ dữ liệu.\n",
    "- Có thể do:\n",
    "     - Dữ liệu chưa được xử lý tốt.\n",
    "     - Mô hình quá đơn giản, hoặc siêu tham số chưa phù hợp.\n",
    "\n",
    "**3. Mean Absolute Percentage Error (MAPE): 174.73%**\n",
    "- Đây là một mức MAPE rất cao, tức là trung bình mỗi dự đoán lệch đến gần 175% so với giá trị thực.\n",
    "- Giá trị cao như vậy thường là dấu hiệu:\n",
    "     - Tồn tại nhiều giá trị mục tiêu nhỏ (MAPE dễ bị tăng mạnh khi chia cho giá trị nhỏ).\n",
    "     - Mô hình có khả năng dự đoán sai nghiêm trọng trên nhiều mẫu.\n",
    "\n",
    "**4. Root Mean Squared Log Error (RMSLE): 1.0175**\n",
    "- RMSLE đo sai số trên thang log, giúp giảm ảnh hưởng của outliers.\n",
    "- Giá trị ~1 cho thấy dự đoán kém ổn định, đặc biệt trên các giá trị nhỏ.\n",
    "- RMSLE thường hữu ích trong bài toán mà giá trị mục tiêu có phân phối lệch hoặc có chênh lệch lớn."
   ]
  },
  {
   "cell_type": "markdown",
   "id": "2a2538b8-4394-4f06-b342-d58c93798868",
   "metadata": {},
   "source": [
    "### Lựa chọn mô hình: LightGBM"
   ]
  },
  {
   "cell_type": "markdown",
   "id": "237ef630-b56b-4df1-ac47-fef99ed7a560",
   "metadata": {},
   "source": [
    "- Dể đảm bảo tính tái lập của kết quả bằng cách thiết lập giá trị seed cho các thư viện cần thiết.\n",
    "- Tạo tập huấn luyện và validation với lgb.Dataset, dùng reference=train_data để tối ưu hóa việc chia cây.\n",
    "- Các tham số huấn luyện được thiết lập theo thiết kế phía trên.\n",
    "- Mô hình XGBoost được huấn luyện qua 5000 vòng lặp với kiểm tra sớm và dừng nếu không có cải thiện trong 50 vòng."
   ]
  },
  {
   "cell_type": "code",
   "execution_count": 26,
   "id": "ccdd7a29-9adc-4567-8c87-140c9252e132",
   "metadata": {},
   "outputs": [
    {
     "name": "stdout",
     "output_type": "stream",
     "text": [
      "Training until validation scores don't improve for 50 rounds\n",
      "Did not meet early stopping. Best iteration is:\n",
      "[5000]\ttrain's l1: 0.713217\ttrain's l2: 1.01704\tval's l1: 0.717234\tval's l2: 1.03113\n"
     ]
    }
   ],
   "source": [
    "seed = 42\n",
    "np.random.seed(seed)\n",
    "random.seed(seed)\n",
    "os.environ['PYTHONHASHSEED'] = str(seed)\n",
    "\n",
    "train_data = lgb.Dataset(X_train, label=y_train)\n",
    "valid_data = lgb.Dataset(X_val, label=y_val, reference=train_data)\n",
    "\n",
    "hyper_params = {\n",
    "    'task': 'train',\n",
    "    'boosting_type': 'gbdt',\n",
    "    'objective': 'regression',\n",
    "    'metric': ['l1', 'l2'],\n",
    "    'learning_rate': 0.001,\n",
    "    'feature_fraction': 0.9,\n",
    "    'bagging_fraction': 0.85,\n",
    "    'bagging_freq': 10,\n",
    "    'verbose': 0,\n",
    "    'max_depth': 10,\n",
    "    'num_leaves': 96,\n",
    "    'max_bin': 512,\n",
    "    'seed': seed,\n",
    "    'deterministic': True\n",
    "}\n",
    "\n",
    "start_time = time.time()\n",
    "tracemalloc.start()\n",
    "\n",
    "model = lgb.train(\n",
    "    hyper_params,\n",
    "    train_data,\n",
    "    valid_sets=[train_data, valid_data],\n",
    "    valid_names=['train', 'val'],\n",
    "    num_boost_round=5000,\n",
    "    callbacks=[lgb.early_stopping(stopping_rounds=50)]\n",
    ")\n",
    "\n",
    "end_time = time.time()\n",
    "current, peak = tracemalloc.get_traced_memory()\n",
    "tracemalloc.stop()\n",
    "lgb_mem_peak = peak / (1024 ** 2)\n",
    "lgb_time = end_time - start_time\n"
   ]
  },
  {
   "cell_type": "code",
   "execution_count": null,
   "id": "f4b5628c-081a-438d-909a-0374e27d7472",
   "metadata": {},
   "outputs": [
    {
     "name": "stdout",
     "output_type": "stream",
     "text": [
      "Mean Squared Error (MSE): 576423.0700\n",
      "Mean Absolute Percentage Error (MAPE): 174.89%\n",
      "Root Mean Squared Log Error (RMSLE): 1.0174\n"
     ]
    }
   ],
   "source": [
    "y_pred = model.predict(X_test)\n",
    "\n",
    "y_pred = np.maximum(y_pred, 0)\n",
    "y_test = np.maximum(y_test, 0)\n",
    "\n",
    "# MSE \n",
    "mse_lgbm = mean_squared_error(np.expm1(y_test), np.expm1(y_pred))\n",
    "\n",
    "# RMSLE\n",
    "rmsle_lgbm = np.sqrt(np.mean(np.square(np.log1p(np.expm1(y_test)) - np.log1p(np.expm1(y_pred)))))\n",
    "\n",
    "# MAPE\n",
    "mape_lgbm = np.mean(np.abs((np.expm1(y_test) - np.expm1(y_pred)) / (np.expm1(y_test) + 1e-9))) * 100  \n",
    "\n",
    "print(f\"Mean Squared Error (MSE): {mse_lgbm:.4f}\")\n",
    "print(f\"Mean Absolute Percentage Error (MAPE): {mape_lgbm:.2f}%\")\n",
    "print(f\"Root Mean Squared Log Error (RMSLE): {rmsle_lgbm:.4f}\")"
   ]
  },
  {
   "cell_type": "code",
   "execution_count": 28,
   "id": "a70ee344",
   "metadata": {},
   "outputs": [
    {
     "name": "stdout",
     "output_type": "stream",
     "text": [
      "\n",
      "Tổng thời gian huấn luyện: 397.92 giây\n",
      "Bộ nhớ RAM peak trong quá trình huấn luyện: 135.97 MB\n"
     ]
    }
   ],
   "source": [
    "print(f\"\\nTổng thời gian huấn luyện: {end_time - start_time:.2f} giây\")\n",
    "print(f\"Bộ nhớ RAM peak trong quá trình huấn luyện: {peak / (1024 ** 2):.2f} MB\")"
   ]
  },
  {
   "cell_type": "markdown",
   "id": "281c76b9",
   "metadata": {},
   "source": [
    "### So sánh thời gian chạy và bộ nhớ sử dụng của 2 model"
   ]
  },
  {
   "cell_type": "code",
   "execution_count": 29,
   "id": "9145865f-55de-49bc-a6a3-065fb1cf9bcf",
   "metadata": {},
   "outputs": [
    {
     "data": {
      "image/png": "[encoded data removed]",
      "text/plain": [
       "<Figure size 1200x500 with 2 Axes>"
      ]
     },
     "metadata": {},
     "output_type": "display_data"
    }
   ],
   "source": [
    "models = ['LightGBM', 'XGBoost']\n",
    "memories = [lgb_mem_peak, xgb_mem_peak]\n",
    "times = [lgb_time, xgb_time]\n",
    "\n",
    "plt.figure(figsize=(12, 5))\n",
    "\n",
    "plt.subplot(1, 2, 1)\n",
    "bars1 = plt.bar(models, times, color=['salmon', 'skyblue'])\n",
    "plt.ylabel('Thời gian (giây)')\n",
    "plt.title('So sánh thời gian huấn luyện')\n",
    "for bar, time_val in zip(bars1, times):\n",
    "    plt.text(bar.get_x() + bar.get_width()/2, bar.get_height() + 5,\n",
    "             f\"{time_val:.2f}s\", ha='center')\n",
    "    \n",
    "plt.subplot(1, 2, 2)\n",
    "bars2 = plt.bar(models, memories, color=['salmon', 'skyblue'])\n",
    "plt.ylabel('Bộ nhớ peak(MB)')\n",
    "plt.title('So sánh bộ nhớ peak')\n",
    "for bar, mem_val in zip(bars2, memories):\n",
    "    plt.text(bar.get_x() + bar.get_width()/2, bar.get_height() + 5,\n",
    "             f\"{mem_val:.2f} MB\", ha='center')\n",
    "\n",
    "plt.tight_layout()\n",
    "plt.show()"
   ]
  }
 ],
 "metadata": {
  "kernelspec": {
   "display_name": "min_ds-env",
   "language": "python",
   "name": "python3"
  },
  "language_info": {
   "codemirror_mode": {
    "name": "ipython",
    "version": 3
   },
   "file_extension": ".py",
   "mimetype": "text/x-python",
   "name": "python",
   "nbconvert_exporter": "python",
   "pygments_lexer": "ipython3",
   "version": "3.10.8"
  }
 },
 "nbformat": 4,
 "nbformat_minor": 5
}
